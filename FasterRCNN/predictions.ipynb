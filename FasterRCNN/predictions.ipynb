{
 "cells": [
  {
   "cell_type": "code",
   "execution_count": 12,
   "id": "69ba38fa",
   "metadata": {},
   "outputs": [],
   "source": [
    "import cv2\n",
    "from FasterRCNN_detector import FasterRCNN_Detector\n",
    "import time "
   ]
  },
  {
   "cell_type": "code",
   "execution_count": 14,
   "id": "348636a0",
   "metadata": {},
   "outputs": [
    {
     "name": "stdout",
     "output_type": "stream",
     "text": [
      "Inference time: 3.2560 seconds\n"
     ]
    }
   ],
   "source": [
    "labelmap_path = r\"C:\\Users\\ttmpa\\Desktop\\tf_od\\FasterR_CNN\\labelmap.pbtxt\"\n",
    "model_dir = r\"C:\\Users\\ttmpa\\Desktop\\tf_od\\FasterR_CNN\\saved_model\"\n",
    "img_path = r\"C:\\Users\\ttmpa\\Desktop\\tf_od\\FasterR_CNN\\test_images\\test04.jpg\"\n",
    "\n",
    "frcnn = FasterRCNN_Detector(labelmap_path, model_dir)\n",
    "img = cv2.imread(img_path)\n",
    "\n",
    "start_time = time.time()\n",
    "preds, info = frcnn.predictions(img)\n",
    "end_time = time.time()\n",
    "\n",
    "inference_time = end_time - start_time\n",
    "print(f\"Inference time: {inference_time:.4f} seconds\")\n",
    "\n",
    "cv2.imshow('img',preds)\n",
    "cv2.waitKey(0)\n",
    "cv2.destroyAllWindows()\n"
   ]
  },
  {
   "cell_type": "code",
   "execution_count": 7,
   "id": "3adc8ef8",
   "metadata": {},
   "outputs": [
    {
     "name": "stdout",
     "output_type": "stream",
     "text": [
      "['washer', '100.00%']\n",
      "['washer', '99.99%']\n"
     ]
    }
   ],
   "source": [
    "for i in info:\n",
    "    if i[0] == 'washer':\n",
    "        print(i)"
   ]
  },
  {
   "cell_type": "code",
   "execution_count": null,
   "id": "ad45def3",
   "metadata": {},
   "outputs": [],
   "source": []
  }
 ],
 "metadata": {
  "kernelspec": {
   "display_name": "tf2",
   "language": "python",
   "name": "tf2"
  },
  "language_info": {
   "codemirror_mode": {
    "name": "ipython",
    "version": 3
   },
   "file_extension": ".py",
   "mimetype": "text/x-python",
   "name": "python",
   "nbconvert_exporter": "python",
   "pygments_lexer": "ipython3",
   "version": "3.9.19"
  }
 },
 "nbformat": 4,
 "nbformat_minor": 5
}
