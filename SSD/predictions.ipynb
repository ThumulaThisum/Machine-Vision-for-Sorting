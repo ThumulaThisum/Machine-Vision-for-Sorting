{
 "cells": [
  {
   "cell_type": "code",
   "execution_count": 1,
   "id": "e713c248-ff40-47cd-9cdd-704f0fc2d771",
   "metadata": {},
   "outputs": [],
   "source": [
    "import cv2\n",
    "from SSD_Detector import SSD_Detector"
   ]
  },
  {
   "cell_type": "code",
   "execution_count": 2,
   "id": "033bad15-21a1-498d-ac0a-4be407b6d6b7",
   "metadata": {},
   "outputs": [],
   "source": [
    "ssd = SSD_Detector('SSD_MobileNet_model/labelmap.pbtxt', 'SSD_MobileNet_model/detect.tflite')\n",
    "\n",
    "img = cv2.imread('SSD_MobileNet_model/test_images/test04.jpg')\n",
    "\n",
    "preds, info = ssd.predictions(img) \n",
    "\n",
    "# cv2.imshow('img_pred', img)\n",
    "# cv2.waitKey(0)\n",
    "# cv2.destroyAllWindows()"
   ]
  },
  {
   "cell_type": "code",
   "execution_count": 3,
   "id": "91282a28-1dfe-41b9-bd60-188796244eea",
   "metadata": {},
   "outputs": [
    {
     "name": "stdout",
     "output_type": "stream",
     "text": [
      "['bolt', 'bolt', 'nut', 'nut', 'bolt', 'bolt', 'bolt']\n"
     ]
    }
   ],
   "source": [
    "print(info)"
   ]
  },
  {
   "cell_type": "code",
   "execution_count": null,
   "id": "2208fef4-1606-4001-98a8-cedd97af80f0",
   "metadata": {},
   "outputs": [],
   "source": []
  },
  {
   "cell_type": "code",
   "execution_count": null,
   "id": "5e81becb-c6b8-4b9b-a59e-0a4e5378373c",
   "metadata": {},
   "outputs": [],
   "source": []
  }
 ],
 "metadata": {
  "kernelspec": {
   "display_name": "Python 3 (ipykernel)",
   "language": "python",
   "name": "python3"
  },
  "language_info": {
   "codemirror_mode": {
    "name": "ipython",
    "version": 3
   },
   "file_extension": ".py",
   "mimetype": "text/x-python",
   "name": "python",
   "nbconvert_exporter": "python",
   "pygments_lexer": "ipython3",
   "version": "3.9.19"
  }
 },
 "nbformat": 4,
 "nbformat_minor": 5
}
